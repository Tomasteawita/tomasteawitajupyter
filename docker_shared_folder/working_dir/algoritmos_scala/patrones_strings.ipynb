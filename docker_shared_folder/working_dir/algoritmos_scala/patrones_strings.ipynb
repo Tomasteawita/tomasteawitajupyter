{
 "cells": [
  {
   "cell_type": "code",
   "execution_count": 1,
   "id": "ffa228bc-5599-4a94-b7f5-cba1351c22ff",
   "metadata": {},
   "outputs": [
    {
     "data": {
      "text/plain": [
       "Intitializing Scala interpreter ..."
      ]
     },
     "metadata": {},
     "output_type": "display_data"
    },
    {
     "data": {
      "text/plain": [
       "Spark Web UI available at http://587b4045b7f7:4040\n",
       "SparkContext available as 'sc' (version = 3.5.0, master = local[*], app id = local-1708854480682)\n",
       "SparkSession available as 'spark'\n"
      ]
     },
     "metadata": {},
     "output_type": "display_data"
    },
    {
     "name": "stdout",
     "output_type": "stream",
     "text": [
      "\n"
     ]
    }
   ],
   "source": [
    "println()"
   ]
  },
  {
   "cell_type": "code",
   "execution_count": 2,
   "id": "40b9d3f9",
   "metadata": {},
   "outputs": [
    {
     "name": "stdout",
     "output_type": "stream",
     "text": [
      "Hola muchacho\n"
     ]
    }
   ],
   "source": [
    "println(\"Hola muchacho\")"
   ]
  },
  {
   "cell_type": "code",
   "execution_count": 4,
   "id": "a62c6f24",
   "metadata": {},
   "outputs": [
    {
     "data": {
      "text/plain": [
       "verifyingAlienDictionary: (words: Array[String], order: String)Boolean\n",
       "words: Array[String] = Array(hello, leetcode)\n",
       "order: String = hlabcdefgijkmnopqrstuvwxyz\n",
       "res: Boolean = true\n"
      ]
     },
     "execution_count": 4,
     "metadata": {},
     "output_type": "execute_result"
    }
   ],
   "source": [
    "def verifyingAlienDictionary(words: Array[String], order: String): Boolean = {\n",
    "  val orderMap = order.zipWithIndex.toMap\n",
    "  def compare(a: String, b: String): Boolean = {\n",
    "    val aChars = a.toCharArray\n",
    "    val bChars = b.toCharArray\n",
    "    val n = aChars.length\n",
    "    val m = bChars.length\n",
    "    var i = 0\n",
    "    while (i < n && i < m) {\n",
    "      if (orderMap(aChars(i)) < orderMap(bChars(i))) return true\n",
    "      if (orderMap(aChars(i)) > orderMap(bChars(i))) return false\n",
    "      i += 1\n",
    "    }\n",
    "    n <= m\n",
    "  }\n",
    "  words.sliding(2).forall { case Array(a, b) => compare(a, b) }\n",
    "}\n",
    "\n",
    "val words = Array(\"hello\", \"leetcode\")\n",
    "val order = \"hlabcdefgijkmnopqrstuvwxyz\"\n",
    "val res = verifyingAlienDictionary(words, order)"
   ]
  },
  {
   "cell_type": "code",
   "execution_count": null,
   "id": "9d7d0963",
   "metadata": {},
   "outputs": [],
   "source": []
  },
  {
   "cell_type": "code",
   "execution_count": null,
   "id": "e2c0be40",
   "metadata": {},
   "outputs": [],
   "source": []
  },
  {
   "cell_type": "code",
   "execution_count": null,
   "metadata": {},
   "outputs": [],
   "source": []
  },
  {
   "cell_type": "code",
   "execution_count": null,
   "metadata": {},
   "outputs": [],
   "source": []
  },
  {
   "cell_type": "code",
   "execution_count": null,
   "metadata": {},
   "outputs": [],
   "source": []
  },
  {
   "cell_type": "code",
   "execution_count": null,
   "id": "a80be697",
   "metadata": {},
   "outputs": [],
   "source": []
  },
  {
   "cell_type": "code",
   "execution_count": null,
   "id": "4bdfdf49",
   "metadata": {},
   "outputs": [],
   "source": []
  }
 ],
 "metadata": {
  "kernelspec": {
   "display_name": "spylon-kernel",
   "language": "scala",
   "name": "spylon-kernel"
  },
  "language_info": {
   "codemirror_mode": "text/x-scala",
   "file_extension": ".scala",
   "help_links": [
    {
     "text": "MetaKernel Magics",
     "url": "https://metakernel.readthedocs.io/en/latest/source/README.html"
    }
   ],
   "mimetype": "text/x-scala",
   "name": "scala",
   "pygments_lexer": "scala",
   "version": "0.4.1"
  }
 },
 "nbformat": 4,
 "nbformat_minor": 5
}
