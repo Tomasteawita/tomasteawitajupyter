{
 "cells": [
  {
   "cell_type": "markdown",
   "id": "61dacfc7-68b4-42a5-b760-e30a4bfd13a6",
   "metadata": {},
   "source": [
    "# Análisis del registro de gastos"
   ]
  },
  {
   "cell_type": "code",
   "execution_count": 1,
   "id": "595a6cc2-f5f7-44c4-9898-607b7edf09aa",
   "metadata": {},
   "outputs": [],
   "source": [
    "import pandas as pd\n",
    "import numpy as np"
   ]
  },
  {
   "cell_type": "markdown",
   "id": "51023857",
   "metadata": {},
   "source": [
    "## Lectura y descripción de DataFrame"
   ]
  },
  {
   "cell_type": "code",
   "execution_count": 2,
   "id": "85795de7-d6c4-4b63-80aa-732d6d76d5fe",
   "metadata": {},
   "outputs": [
    {
     "name": "stdout",
     "output_type": "stream",
     "text": [
      "               1                  2                    3  \\\n",
      "0      CATEGORÍA       SUBCATEGORÍA                FECHA   \n",
      "1           Ocio          O - Otros  2024-01-01 00:00:00   \n",
      "2          Salud   Cuidado Personal  2024-01-03 00:00:00   \n",
      "3   Gastos_Fijos          Servicios  2024-01-05 00:00:00   \n",
      "4   Gastos_Fijos          Servicios  2024-01-06 00:00:00   \n",
      "5          Salud           Gimnasio  2024-01-08 00:00:00   \n",
      "6   Supermercado            Almacén  2024-01-08 00:00:00   \n",
      "7   Supermercado            Almacén  2024-01-10 00:00:00   \n",
      "8   Gastos_Fijos          Servicios  2024-01-08 00:00:00   \n",
      "9   Gastos_Fijos          Servicios  2024-01-08 00:00:00   \n",
      "10  Supermercado         Verdulería  2024-01-12 00:00:00   \n",
      "11          Ocio       Restaurantes  2024-01-13 00:00:00   \n",
      "12  Supermercado            Almacén  2024-01-14 00:00:00   \n",
      "13  Supermercado            Almacén  2024-01-14 00:00:00   \n",
      "14  Supermercado         Verdulería  2024-01-14 00:00:00   \n",
      "15      Vivienda  Electrodomésticos  2024-01-14 00:00:00   \n",
      "16          Ocio       Restaurantes  2024-01-15 00:00:00   \n",
      "17  Supermercado         Carnicería  2024-01-17 00:00:00   \n",
      "18  Supermercado            Almacén  2024-01-17 00:00:00   \n",
      "19  Supermercado            Almacén  2024-01-18 00:00:00   \n",
      "20  Gastos_Fijos          Servicios  2024-01-19 00:00:00   \n",
      "21  Gastos_Fijos          Servicios  2024-01-20 00:00:00   \n",
      "22  Supermercado         Verdulería  2024-01-20 00:00:00   \n",
      "23  Supermercado            Almacén  2024-01-20 00:00:00   \n",
      "24  Gastos_Fijos          Servicios  2024-01-20 00:00:00   \n",
      "25  Supermercado            Almacén  2024-01-20 00:00:00   \n",
      "26  Supermercado         Verdulería  2024-01-21 00:00:00   \n",
      "27  Supermercado            Almacén  2024-01-21 00:00:00   \n",
      "28  Supermercado         Carnicería  2024-01-21 00:00:00   \n",
      "29          Ocio       Restaurantes  2024-01-21 00:00:00   \n",
      "30  Gastos_Fijos          Servicios  2024-01-27 00:00:00   \n",
      "31  Supermercado         Carnicería  2024-01-27 00:00:00   \n",
      "32  Supermercado            Almacén  2024-01-29 00:00:00   \n",
      "\n",
      "                                          4        5  \n",
      "0                                   DETALLE  IMPORTE  \n",
      "1                                   Lujuria    12000  \n",
      "2                                  Barbería     4000  \n",
      "3                           LinkdIn premium  3223.96  \n",
      "4                             Bidon de agua     2500  \n",
      "5                                  Efectivo    10500  \n",
      "6                      Avena, Crema de mani     4400  \n",
      "7                          Mix frutos secos     3500  \n",
      "8               Reserva turno nutricionista     2000  \n",
      "9               Asesoramiento entrenamiento     5000  \n",
      "10                                    Fruta     4400  \n",
      "11                                    Budin     3000  \n",
      "12                        3 yogurst griegos     4920  \n",
      "13                         Leche descremada      800  \n",
      "14   Banana, Cereza, Uva, tomate, zanahoria     3900  \n",
      "15                                  Báscula  9123.75  \n",
      "16                                      NaN     3388  \n",
      "17                        1100gr de suprema     4290  \n",
      "18                            agua gimnasio      800  \n",
      "19  Pan lactal, leche descremada, 1/2 huevo     2700  \n",
      "20                           Github Copilot  13864.3  \n",
      "21                                  Soderia     2500  \n",
      "22                                      NaN     4100  \n",
      "23                                Dietetica    13000  \n",
      "24                            Nutricionista     5400  \n",
      "25                                      NaN     2500  \n",
      "26                                      NaN     1390  \n",
      "27                                      NaN     1200  \n",
      "28                                  Suprema     7007  \n",
      "29                                PedidosYa  4478.19  \n",
      "30                            Bidon de agua     2500  \n",
      "31                                    pollo     3861  \n",
      "32                       Pascualina, fideos     3300  \n"
     ]
    }
   ],
   "source": [
    "file_path = './files/expense record/Gastos.xlsx'\n",
    "sheet_name = 'Enero'\n",
    "range_of_cells = 'B13:F45'\n",
    "\n",
    "df = pd.read_excel(file_path, sheet_name=sheet_name, header=None, skiprows=range(12), usecols=range(1, 6))\n",
    "print(df)\n"
   ]
  },
  {
   "cell_type": "code",
   "execution_count": 3,
   "id": "88e3a2b1-99e4-4675-8bdc-ab8765535a98",
   "metadata": {},
   "outputs": [
    {
     "name": "stdout",
     "output_type": "stream",
     "text": [
      "<class 'pandas.core.frame.DataFrame'>\n",
      "RangeIndex: 33 entries, 0 to 32\n",
      "Data columns (total 5 columns):\n",
      " #   Column  Non-Null Count  Dtype \n",
      "---  ------  --------------  ----- \n",
      " 0   1       33 non-null     object\n",
      " 1   2       33 non-null     object\n",
      " 2   3       33 non-null     object\n",
      " 3   4       28 non-null     object\n",
      " 4   5       33 non-null     object\n",
      "dtypes: object(5)\n",
      "memory usage: 1.4+ KB\n"
     ]
    }
   ],
   "source": [
    "df.info()\n"
   ]
  },
  {
   "cell_type": "code",
   "execution_count": 4,
   "id": "09cfd499-043a-45c6-9403-3cc3e0dbeb7c",
   "metadata": {},
   "outputs": [
    {
     "name": "stdout",
     "output_type": "stream",
     "text": [
      "              1                 2                    3                4  \\\n",
      "0     CATEGORÍA      SUBCATEGORÍA                FECHA          DETALLE   \n",
      "1          Ocio         O - Otros  2024-01-01 00:00:00          Lujuria   \n",
      "2         Salud  Cuidado Personal  2024-01-03 00:00:00         Barbería   \n",
      "3  Gastos_Fijos         Servicios  2024-01-05 00:00:00  LinkdIn premium   \n",
      "4  Gastos_Fijos         Servicios  2024-01-06 00:00:00    Bidon de agua   \n",
      "\n",
      "         5  \n",
      "0  IMPORTE  \n",
      "1    12000  \n",
      "2     4000  \n",
      "3  3223.96  \n",
      "4     2500  \n"
     ]
    }
   ],
   "source": [
    "print(df.head(5))"
   ]
  },
  {
   "cell_type": "markdown",
   "id": "f978f926",
   "metadata": {},
   "source": [
    "## Limpieza"
   ]
  },
  {
   "cell_type": "code",
   "execution_count": 5,
   "id": "06fbb33a-d6b8-4962-83ed-0886f74792a3",
   "metadata": {},
   "outputs": [],
   "source": [
    "df.columns = ['Category', 'Subcategory', 'Date', 'Detail', 'Total']"
   ]
  },
  {
   "cell_type": "code",
   "execution_count": 6,
   "id": "7dcd70b4",
   "metadata": {},
   "outputs": [],
   "source": [
    "df = df.drop(0)"
   ]
  },
  {
   "cell_type": "code",
   "execution_count": 7,
   "id": "225db446",
   "metadata": {},
   "outputs": [],
   "source": [
    "df['Date'] = pd.to_datetime(df['Date']).dt.date"
   ]
  },
  {
   "cell_type": "code",
   "execution_count": 8,
   "id": "e7a779db",
   "metadata": {},
   "outputs": [
    {
     "name": "stdout",
     "output_type": "stream",
     "text": [
      "       Category       Subcategory        Date           Detail    Total\n",
      "1          Ocio         O - Otros  2024-01-01          Lujuria    12000\n",
      "2         Salud  Cuidado Personal  2024-01-03         Barbería     4000\n",
      "3  Gastos_Fijos         Servicios  2024-01-05  LinkdIn premium  3223.96\n",
      "4  Gastos_Fijos         Servicios  2024-01-06    Bidon de agua     2500\n",
      "5         Salud          Gimnasio  2024-01-08         Efectivo    10500\n"
     ]
    }
   ],
   "source": [
    "print(df.head(5))"
   ]
  },
  {
   "cell_type": "markdown",
   "id": "7a872d84",
   "metadata": {},
   "source": [
    "# Análisis de gastos"
   ]
  },
  {
   "cell_type": "markdown",
   "id": "ea40f2ba",
   "metadata": {},
   "source": [
    "## Análisis de gastos fijos"
   ]
  },
  {
   "cell_type": "code",
   "execution_count": 9,
   "id": "c06971e3",
   "metadata": {},
   "outputs": [
    {
     "name": "stdout",
     "output_type": "stream",
     "text": [
      "Category\n",
      "Gastos_Fijos    36988.26\n",
      "Ocio            22866.19\n",
      "Salud              14500\n",
      "Supermercado       66068\n",
      "Vivienda         9123.75\n",
      "Name: Total, dtype: object\n"
     ]
    }
   ],
   "source": [
    "grouped_category_df = df.groupby('Category')['Total'].sum()\n",
    "print(grouped_category_df)\n"
   ]
  },
  {
   "cell_type": "code",
   "execution_count": 10,
   "id": "d3282cdb",
   "metadata": {},
   "outputs": [
    {
     "name": "stdout",
     "output_type": "stream",
     "text": [
      "Subcategory\n",
      "Almacén                 37120\n",
      "Carnicería              15158\n",
      "Cuidado Personal         4000\n",
      "Electrodomésticos     9123.75\n",
      "Gimnasio                10500\n",
      "O - Otros               12000\n",
      "Restaurantes         10866.19\n",
      "Servicios            36988.26\n",
      "Verdulería              13790\n",
      "Name: Total, dtype: object\n"
     ]
    }
   ],
   "source": [
    "grouped_subcategory_df = df.groupby('Subcategory')['Total'].sum()\n",
    "print(grouped_subcategory_df)\n"
   ]
  },
  {
   "cell_type": "markdown",
   "id": "3ceaaa35",
   "metadata": {},
   "source": [
    "### Gastos fijos totales = salud + gastos fijos"
   ]
  },
  {
   "cell_type": "code",
   "execution_count": 11,
   "id": "114e3f72",
   "metadata": {},
   "outputs": [
    {
     "name": "stdout",
     "output_type": "stream",
     "text": [
      "El gasto total entre salud y gastos fijos es de: 51488.26\n"
     ]
    }
   ],
   "source": [
    "suma_salud_gastos_fijos = grouped_category_df.loc[['Salud', 'Gastos_Fijos']].sum()\n",
    "print(f\"El gasto total entre salud y gastos fijos es de: {suma_salud_gastos_fijos}\")\n"
   ]
  },
  {
   "cell_type": "markdown",
   "id": "9c1915da",
   "metadata": {},
   "source": [
    "### Conclusión de gastos fijos\n",
    "Con los datos anteriormente, decimos que:\n",
    "* Tenemos que guardar $48.988,26 por grastos en salud y gastos fijos, redondeando a $50.000"
   ]
  },
  {
   "cell_type": "markdown",
   "id": "290d91d9",
   "metadata": {},
   "source": [
    "## Análisis de variables"
   ]
  },
  {
   "cell_type": "code",
   "execution_count": 12,
   "id": "96e27f34",
   "metadata": {},
   "outputs": [
    {
     "name": "stdout",
     "output_type": "stream",
     "text": [
      "        Category        Subcategory        Date  \\\n",
      "1           Ocio          O - Otros  2024-01-01   \n",
      "6   Supermercado            Almacén  2024-01-08   \n",
      "7   Supermercado            Almacén  2024-01-10   \n",
      "10  Supermercado         Verdulería  2024-01-12   \n",
      "11          Ocio       Restaurantes  2024-01-13   \n",
      "12  Supermercado            Almacén  2024-01-14   \n",
      "13  Supermercado            Almacén  2024-01-14   \n",
      "14  Supermercado         Verdulería  2024-01-14   \n",
      "15      Vivienda  Electrodomésticos  2024-01-14   \n",
      "16          Ocio       Restaurantes  2024-01-15   \n",
      "17  Supermercado         Carnicería  2024-01-17   \n",
      "18  Supermercado            Almacén  2024-01-17   \n",
      "19  Supermercado            Almacén  2024-01-18   \n",
      "22  Supermercado         Verdulería  2024-01-20   \n",
      "23  Supermercado            Almacén  2024-01-20   \n",
      "25  Supermercado            Almacén  2024-01-20   \n",
      "26  Supermercado         Verdulería  2024-01-21   \n",
      "27  Supermercado            Almacén  2024-01-21   \n",
      "28  Supermercado         Carnicería  2024-01-21   \n",
      "29          Ocio       Restaurantes  2024-01-21   \n",
      "31  Supermercado         Carnicería  2024-01-27   \n",
      "32  Supermercado            Almacén  2024-01-29   \n",
      "\n",
      "                                     Detail    Total  \n",
      "1                                   Lujuria    12000  \n",
      "6                      Avena, Crema de mani     4400  \n",
      "7                          Mix frutos secos     3500  \n",
      "10                                    Fruta     4400  \n",
      "11                                    Budin     3000  \n",
      "12                        3 yogurst griegos     4920  \n",
      "13                         Leche descremada      800  \n",
      "14   Banana, Cereza, Uva, tomate, zanahoria     3900  \n",
      "15                                  Báscula  9123.75  \n",
      "16                                      NaN     3388  \n",
      "17                        1100gr de suprema     4290  \n",
      "18                            agua gimnasio      800  \n",
      "19  Pan lactal, leche descremada, 1/2 huevo     2700  \n",
      "22                                      NaN     4100  \n",
      "23                                Dietetica    13000  \n",
      "25                                      NaN     2500  \n",
      "26                                      NaN     1390  \n",
      "27                                      NaN     1200  \n",
      "28                                  Suprema     7007  \n",
      "29                                PedidosYa  4478.19  \n",
      "31                                    pollo     3861  \n",
      "32                       Pascualina, fideos     3300  \n"
     ]
    }
   ],
   "source": [
    "df_without_total_fixed_expenses = df[~df['Category'].isin(['Salud', 'Gastos_Fijos'])]\n",
    "print(df_without_total_fixed_expenses)\n"
   ]
  },
  {
   "cell_type": "code",
   "execution_count": 13,
   "id": "98aa446f",
   "metadata": {},
   "outputs": [
    {
     "name": "stdout",
     "output_type": "stream",
     "text": [
      "Subcategory\n",
      "Almacén                 37120\n",
      "Carnicería              15158\n",
      "Electrodomésticos     9123.75\n",
      "O - Otros               12000\n",
      "Restaurantes         10866.19\n",
      "Verdulería              13790\n",
      "Name: Total, dtype: object\n"
     ]
    }
   ],
   "source": [
    "grouped_variable_expenses_df = df_without_total_fixed_expenses.groupby('Subcategory')['Total'].sum()\n",
    "print(grouped_variable_expenses_df)\n"
   ]
  },
  {
   "cell_type": "markdown",
   "id": "69a126ea",
   "metadata": {},
   "source": [
    "### Total de gastos variables importantes"
   ]
  },
  {
   "cell_type": "code",
   "execution_count": 14,
   "id": "9a5d966c",
   "metadata": {},
   "outputs": [],
   "source": [
    "subcategories_to_sum = ['Almacén', 'Carnicería', 'Verdulería']\n",
    "subcategories_to_exclude = ['Almacén', 'Carnicería', 'Verdulería']\n",
    "\n",
    "sum_subcategories = grouped_variable_expenses_df.loc[subcategories_to_sum].sum()\n",
    "sum_remaining_subcategories = grouped_variable_expenses_df.drop(subcategories_to_exclude).sum()\n"
   ]
  },
  {
   "cell_type": "code",
   "execution_count": 15,
   "id": "d13b5deb",
   "metadata": {},
   "outputs": [
    {
     "name": "stdout",
     "output_type": "stream",
     "text": [
      "El gasto total en las subcategorías ['Almacén', 'Carnicería', 'Verdulería'] es de: 66068\n",
      "El gasto total en las subcategorías restantes es de: 31989.94\n"
     ]
    }
   ],
   "source": [
    "print(f\"El gasto total en las subcategorías {subcategories_to_sum} es de: {sum_subcategories}\")\n",
    "print(f\"El gasto total en las subcategorías restantes es de: {sum_remaining_subcategories}\")"
   ]
  },
  {
   "cell_type": "markdown",
   "id": "70a1fc75",
   "metadata": {},
   "source": [
    "### Conclusión de gastos variables\n",
    "* Para el més de febrero, hay que apartar un mínimo de $65.000 para los gastos en comida\n",
    "* Existe un gasto de aproximadamente $40.000 en otras cosas nó necesarias para la existencia de Tomás Cueva"
   ]
  },
  {
   "cell_type": "markdown",
   "id": "a01dcec1",
   "metadata": {},
   "source": [
    "### Análisis general"
   ]
  },
  {
   "cell_type": "code",
   "execution_count": 16,
   "id": "aa790c0a",
   "metadata": {},
   "outputs": [
    {
     "name": "stdout",
     "output_type": "stream",
     "text": [
      "El total de gastos en el mes de enero es de: 149546.2\n"
     ]
    }
   ],
   "source": [
    "total = df['Total'].sum()\n",
    "print(f'El total de gastos en el mes de enero es de: {total}')\n"
   ]
  },
  {
   "cell_type": "code",
   "execution_count": 18,
   "id": "e48bcc7a",
   "metadata": {},
   "outputs": [
    {
     "name": "stdout",
     "output_type": "stream",
     "text": [
      "Los gastos generales se pueden extender hasta un 188428.212\n"
     ]
    }
   ],
   "source": [
    "print(f'Los gastos generales se pueden extender hasta un {total + (total * 0.26)}')"
   ]
  },
  {
   "cell_type": "markdown",
   "id": "2c08c2c4",
   "metadata": {},
   "source": [
    "# Conclusión\n",
    "* Gastos Fijos: $51.488,26\n",
    "* Gastos en comida: $66.068\n",
    "* Gastos innecesarios o no importantes de : $32.000\n",
    "\n",
    "La suma entre los gastos es alrededor de unos $149.546,2 , siendo que la inflación del proximo mes va a ser alrededor de un 26%, un poco más o un poco menos, los gastos totales deberías ser de unos $188.428,212\n"
   ]
  },
  {
   "cell_type": "code",
   "execution_count": 25,
   "id": "590af8ad",
   "metadata": {},
   "outputs": [],
   "source": [
    "dolar_mep = 1256.76\n",
    "dinero_recibido_por_padre = 60000"
   ]
  },
  {
   "cell_type": "code",
   "execution_count": 26,
   "id": "4d0a6e22",
   "metadata": {},
   "outputs": [
    {
     "name": "stdout",
     "output_type": "stream",
     "text": [
      "47.74\n"
     ]
    }
   ],
   "source": [
    "dinero_recibido_por_padre_en_dolares_mep = round(dinero_recibido_por_padre / dolar_mep, 2)\n",
    "print(dinero_recibido_por_padre_en_dolares_mep)\n"
   ]
  },
  {
   "cell_type": "code",
   "execution_count": 27,
   "id": "291fa902",
   "metadata": {},
   "outputs": [
    {
     "name": "stdout",
     "output_type": "stream",
     "text": [
      "125676.0\n"
     ]
    }
   ],
   "source": [
    "sueldo_destinado_a_futuro = 100 * dolar_mep\n",
    "print(sueldo_destinado_a_futuro)"
   ]
  },
  {
   "cell_type": "code",
   "execution_count": 31,
   "id": "a8178f92",
   "metadata": {},
   "outputs": [],
   "source": [
    "dinero_destinado_a_futuro_total_dolares = dinero_recibido_por_padre_en_dolares_mep + (sueldo_destinado_a_futuro/dolar_mep)\n",
    "dinero_destinado_a_futuro_total_ars = dinero_recibido_por_padre + sueldo_destinado_a_futuro"
   ]
  },
  {
   "cell_type": "code",
   "execution_count": 33,
   "metadata": {},
   "outputs": [
    {
     "name": "stdout",
     "output_type": "stream",
     "text": [
      "Sueldo futuro en dolares: 147.74\n",
      "Sueldo futuro en pesos: 185676.0\n"
     ]
    }
   ],
   "source": [
    "print(f'Sueldo futuro en dolares: {dinero_destinado_a_futuro_total_dolares}')\n",
    "print(f'Sueldo futuro en pesos: {dinero_destinado_a_futuro_total_ars}')"
   ]
  },
  {
   "cell_type": "code",
   "execution_count": 37,
   "id": "908dabeb",
   "metadata": {},
   "outputs": [
    {
     "name": "stdout",
     "output_type": "stream",
     "text": [
      "Dinero destinado a estudio en dolares: 47.2768\n",
      "Dinero destinado a inversiones en dolares: 73.87\n",
      "Dinero destinado a ahorro en dolares: 26.5932\n"
     ]
    }
   ],
   "source": [
    "print(f'Dinero destinado a estudio en dolares: {dinero_destinado_a_futuro_total_dolares * 0.32}')\n",
    "print(f'Dinero destinado a inversiones en dolares: {dinero_destinado_a_futuro_total_dolares * 0.50}')\n",
    "print(f'Dinero destinado a ahorro en dolares: {dinero_destinado_a_futuro_total_dolares * 0.18}')"
   ]
  },
  {
   "cell_type": "code",
   "execution_count": 39,
   "id": "cb9735e1",
   "metadata": {},
   "outputs": [
    {
     "name": "stdout",
     "output_type": "stream",
     "text": [
      "Dinero destinado a estudio en ars: 59416.32\n",
      "Dinero destinado a inversiones en ars: 92838.0\n",
      "Dinero destinado a ahorro en ars: 33421.68\n"
     ]
    }
   ],
   "source": [
    "print(f'Dinero destinado a estudio en ars: {dinero_destinado_a_futuro_total_ars * 0.32}')\n",
    "print(f'Dinero destinado a inversiones en ars: {dinero_destinado_a_futuro_total_ars * 0.50}')\n",
    "print(f'Dinero destinado a ahorro en ars: {dinero_destinado_a_futuro_total_ars * 0.18}')"
   ]
  }
 ],
 "metadata": {
  "kernelspec": {
   "display_name": "Python 3 (ipykernel)",
   "language": "python",
   "name": "python3"
  },
  "language_info": {
   "codemirror_mode": {
    "name": "ipython",
    "version": 3
   },
   "file_extension": ".py",
   "mimetype": "text/x-python",
   "name": "python",
   "nbconvert_exporter": "python",
   "pygments_lexer": "ipython3",
   "version": "3.11.6"
  }
 },
 "nbformat": 4,
 "nbformat_minor": 5
}
